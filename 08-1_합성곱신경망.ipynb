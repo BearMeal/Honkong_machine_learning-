{
 "cells": [
  {
   "cell_type": "code",
   "execution_count": null,
   "metadata": {},
   "outputs": [],
   "source": [
    "from tensorflow import keras\n",
    "keras.layers.Conv2D(10,kernel_size=(3,3), activation='relu')\n",
    "keras.layers.Conv2D(10,kernel_size=(3,3), activation='relu',padding='same')\n",
    "keras.layers.Conv2D(10,kernel_size=(3,3), activation='relu',\n",
    "                    padding='same', strides=1)\n",
    "# 풀링의 크기 지정(2,2)\n",
    "keras.layers.MaxPool2D(2)\n",
    "\n"
   ]
  }
 ],
 "metadata": {
  "language_info": {
   "name": "python"
  }
 },
 "nbformat": 4,
 "nbformat_minor": 2
}
